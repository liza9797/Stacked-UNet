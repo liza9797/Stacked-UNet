{
 "cells": [
  {
   "cell_type": "code",
   "execution_count": 1,
   "metadata": {},
   "outputs": [],
   "source": [
    "import torch\n",
    "from torchsummary import summary\n",
    "import numpy as np\n",
    "\n",
    "\n",
    "from models.UNet import UNet, ConvBlock"
   ]
  },
  {
   "cell_type": "code",
   "execution_count": 2,
   "metadata": {},
   "outputs": [],
   "source": [
    "# ConvBlock()"
   ]
  },
  {
   "cell_type": "code",
   "execution_count": 6,
   "metadata": {},
   "outputs": [],
   "source": [
    "model = UNet(in_channels=3, num_classes=1, conv_type=\"double\", activation='leaky_relu', depth=3, dilation=2, \n",
    "             is_block=True, channels_sequence=[32, 64, 64] )"
   ]
  },
  {
   "cell_type": "code",
   "execution_count": 8,
   "metadata": {},
   "outputs": [],
   "source": [
    "x = torch.tensor((1,2))"
   ]
  },
  {
   "cell_type": "code",
   "execution_count": 9,
   "metadata": {
    "scrolled": false
   },
   "outputs": [
    {
     "name": "stderr",
     "output_type": "stream",
     "text": [
      "/anaconda3/lib/python3.6/site-packages/torch/nn/modules/upsampling.py:129: UserWarning: nn.Upsample is deprecated. Use nn.functional.interpolate instead.\n",
      "  warnings.warn(\"nn.{} is deprecated. Use nn.functional.interpolate instead.\".format(self.name))\n"
     ]
    },
    {
     "name": "stdout",
     "output_type": "stream",
     "text": [
      "----------------------------------------------------------------\n",
      "        Layer (type)               Output Shape         Param #\n",
      "================================================================\n",
      "            Conv2d-1         [-1, 32, 256, 256]             896\n",
      "              ReLU-2         [-1, 32, 256, 256]               0\n",
      "            Conv2d-3         [-1, 32, 256, 256]           9,248\n",
      "              ReLU-4         [-1, 32, 256, 256]               0\n",
      "         ConvBlock-5         [-1, 32, 256, 256]               0\n",
      "         MaxPool2d-6         [-1, 32, 128, 128]               0\n",
      "            Conv2d-7         [-1, 64, 128, 128]          18,496\n",
      "              ReLU-8         [-1, 64, 128, 128]               0\n",
      "            Conv2d-9         [-1, 64, 128, 128]          36,928\n",
      "             ReLU-10         [-1, 64, 128, 128]               0\n",
      "        ConvBlock-11         [-1, 64, 128, 128]               0\n",
      "        MaxPool2d-12           [-1, 64, 64, 64]               0\n",
      "           Conv2d-13           [-1, 64, 64, 64]          36,928\n",
      "             ReLU-14           [-1, 64, 64, 64]               0\n",
      "           Conv2d-15           [-1, 64, 64, 64]          36,928\n",
      "             ReLU-16           [-1, 64, 64, 64]               0\n",
      "        ConvBlock-17           [-1, 64, 64, 64]               0\n",
      "        MaxPool2d-18           [-1, 64, 32, 32]               0\n",
      "           Conv2d-19          [-1, 128, 32, 32]          73,856\n",
      "             ReLU-20          [-1, 128, 32, 32]               0\n",
      "           Conv2d-21          [-1, 128, 32, 32]         147,584\n",
      "             ReLU-22          [-1, 128, 32, 32]               0\n",
      "        ConvBlock-23          [-1, 128, 32, 32]               0\n",
      "        MaxPool2d-24          [-1, 128, 16, 16]               0\n",
      "           Conv2d-25          [-1, 128, 16, 16]         147,584\n",
      "             ReLU-26          [-1, 128, 16, 16]               0\n",
      "           Conv2d-27          [-1, 128, 16, 16]         147,584\n",
      "             ReLU-28          [-1, 128, 16, 16]               0\n",
      "        ConvBlock-29          [-1, 128, 16, 16]               0\n",
      "         Upsample-30          [-1, 128, 32, 32]               0\n",
      "           Conv2d-31          [-1, 128, 32, 32]         295,040\n",
      "             ReLU-32          [-1, 128, 32, 32]               0\n",
      "           Conv2d-33          [-1, 128, 32, 32]         147,584\n",
      "             ReLU-34          [-1, 128, 32, 32]               0\n",
      "        ConvBlock-35          [-1, 128, 32, 32]               0\n",
      "         Upsample-36          [-1, 128, 64, 64]               0\n",
      "           Conv2d-37           [-1, 64, 64, 64]         110,656\n",
      "             ReLU-38           [-1, 64, 64, 64]               0\n",
      "           Conv2d-39           [-1, 64, 64, 64]          36,928\n",
      "             ReLU-40           [-1, 64, 64, 64]               0\n",
      "        ConvBlock-41           [-1, 64, 64, 64]               0\n",
      "         Upsample-42         [-1, 64, 128, 128]               0\n",
      "           Conv2d-43         [-1, 64, 128, 128]          73,792\n",
      "             ReLU-44         [-1, 64, 128, 128]               0\n",
      "           Conv2d-45         [-1, 64, 128, 128]          36,928\n",
      "             ReLU-46         [-1, 64, 128, 128]               0\n",
      "        ConvBlock-47         [-1, 64, 128, 128]               0\n",
      "         Upsample-48         [-1, 64, 256, 256]               0\n",
      "           Conv2d-49         [-1, 32, 256, 256]          27,680\n",
      "             ReLU-50         [-1, 32, 256, 256]               0\n",
      "           Conv2d-51         [-1, 32, 256, 256]           9,248\n",
      "             ReLU-52         [-1, 32, 256, 256]               0\n",
      "        ConvBlock-53         [-1, 32, 256, 256]               0\n",
      "================================================================\n",
      "Total params: 1,393,888\n",
      "Trainable params: 1,393,888\n",
      "Non-trainable params: 0\n",
      "----------------------------------------------------------------\n",
      "Input size (MB): 0.75\n",
      "Forward/backward pass size (MB): 323.00\n",
      "Params size (MB): 5.32\n",
      "Estimated Total Size (MB): 329.07\n",
      "----------------------------------------------------------------\n"
     ]
    }
   ],
   "source": [
    "summary(model, input_size=(3, 256, 256))"
   ]
  },
  {
   "cell_type": "code",
   "execution_count": null,
   "metadata": {},
   "outputs": [],
   "source": []
  },
  {
   "cell_type": "code",
   "execution_count": null,
   "metadata": {},
   "outputs": [],
   "source": []
  }
 ],
 "metadata": {
  "kernelspec": {
   "display_name": "Python 3",
   "language": "python",
   "name": "python3"
  },
  "language_info": {
   "codemirror_mode": {
    "name": "ipython",
    "version": 3
   },
   "file_extension": ".py",
   "mimetype": "text/x-python",
   "name": "python",
   "nbconvert_exporter": "python",
   "pygments_lexer": "ipython3",
   "version": "3.6.7"
  }
 },
 "nbformat": 4,
 "nbformat_minor": 2
}
